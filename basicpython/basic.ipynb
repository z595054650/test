{
 "cells": [
  {
   "cell_type": "code",
   "execution_count": 14,
   "metadata": {
    "collapsed": true
   },
   "outputs": [
    {
     "name": "stdout",
     "output_type": "stream",
     "text": [
      "[[ 1.21874888 -0.34017498  2.29107481 -1.95019018  0.87988478]]\n[[-1.46744399 -1.31540597 -0.55580222  1.0972647  -1.17334236]]\n[[-0.5700958  -0.26315445 -0.10943155 -0.50284838  0.34938949]\n [-0.31567279 -0.05553784  0.65613749 -1.25110494 -0.01811317]]\n[[-1.48242208 -0.09601068  0.37478367 -2.05843224  0.23230993]]\n[[-1.07310385  0.27492506 -1.79955829  0.28253895  0.42070502]]\n"
     ]
    }
   ],
   "source": [
    "import numpy as np\n",
    "\n",
    "\n",
    "import numpy as np\n",
    "\n",
    "if __name__ == '__main__':\n",
    "    i = 0\n",
    "    np.random.seed()\n",
    "  \n",
    "    while(i<2):\n",
    "        print(np.random.randn(1, 5))\n",
    "        i += 1\n",
    "    np.random.seed()\n",
    "    print(np.random.randn(2, 5))\n",
    "    np.random.seed()\n",
    "    i = 0\n",
    "    while(i < 2):\n",
    "        print(np.random.randn(1, 5))\n",
    "        i += 1\n",
    "\n"
   ]
  },
  {
   "cell_type": "code",
   "execution_count": 18,
   "metadata": {},
   "outputs": [
    {
     "data": {
      "text/plain": [
       "1.3333333333333333"
      ]
     },
     "execution_count": 18,
     "metadata": {},
     "output_type": "execute_result"
    }
   ],
   "source": [
    "3/2\n",
    "\n",
    "3.2/3\n",
    "4/3"
   ]
  },
  {
   "cell_type": "code",
   "execution_count": 28,
   "metadata": {},
   "outputs": [
    {
     "name": "stdout",
     "output_type": "stream",
     "text": [
      "dksmfls\\\\\nsf'nfs\\\nsfs\n'sfsfsf'\n"
     ]
    }
   ],
   "source": [
    "print(r'dksmfls\\\\')\n",
    "print(r\"sf'nfs\"\"\\\\\")gb \n",
    "print(str('sfs'))\n",
    "print(repr(\"sfsfsf\"))"
   ]
  },
  {
   "cell_type": "code",
   "execution_count": 47,
   "metadata": {},
   "outputs": [
    {
     "name": "stdout",
     "output_type": "stream",
     "text": [
      "                        +-----------------------------+\n                        |                                                    |\n                        | please input a sentence : |\n                        |                           |\n                        +-----------------------------+\n"
     ]
    }
   ],
   "source": [
    "sentence = 'please input a sentence :'\n",
    "screen_width = 80\n",
    "slen = len(sentence)\n",
    "\n",
    "box_width = slen + 6\n",
    "left_margin = (screen_width - box_width) // 2\n",
    "\n",
    "print(' '*left_margin + '+' + '-'*(box_width-2) + '+')\n",
    "print(' '*left_margin + '| ' + '  ' * slen + ' |')\n",
    "print(' '*left_margin + '| ' + sentence + ' |')\n",
    "print(' '*left_margin + '| ' + ' ' * slen + ' |')\n",
    "print(' '*left_margin + '+' + '-'*(box_width-2) + '+')\n"
   ]
  },
  {
   "cell_type": "code",
   "execution_count": 31,
   "metadata": {},
   "outputs": [
    {
     "ename": "StdinNotImplementedError",
     "evalue": "raw_input was called, but this frontend does not support input requests.",
     "traceback": [
      "\u001b[0;31m---------------------------------------------------------------------------\u001b[0m",
      "\u001b[0;31mStdinNotImplementedError\u001b[0m                  Traceback (most recent call last)",
      "\u001b[0;32m<ipython-input-31-e5cc5b959481>\u001b[0m in \u001b[0;36m<module>\u001b[0;34m()\u001b[0m\n\u001b[0;32m----> 1\u001b[0;31m \u001b[0minput\u001b[0m\u001b[0;34m(\u001b[0m\u001b[0;34m\"fs\"\u001b[0m\u001b[0;34m)\u001b[0m\u001b[0;34m\u001b[0m\u001b[0m\n\u001b[0m",
      "\u001b[0;32m~/anaconda3/python.app/Contents/lib/python3.6/site-packages/ipykernel/kernelbase.py\u001b[0m in \u001b[0;36mraw_input\u001b[0;34m(self, prompt)\u001b[0m\n\u001b[1;32m    697\u001b[0m         \u001b[0;32mif\u001b[0m \u001b[0;32mnot\u001b[0m \u001b[0mself\u001b[0m\u001b[0;34m.\u001b[0m\u001b[0m_allow_stdin\u001b[0m\u001b[0;34m:\u001b[0m\u001b[0;34m\u001b[0m\u001b[0m\n\u001b[1;32m    698\u001b[0m             raise StdinNotImplementedError(\n\u001b[0;32m--> 699\u001b[0;31m                 \u001b[0;34m\"raw_input was called, but this frontend does not support input requests.\"\u001b[0m\u001b[0;34m\u001b[0m\u001b[0m\n\u001b[0m\u001b[1;32m    700\u001b[0m             )\n\u001b[1;32m    701\u001b[0m         return self._input_request(str(prompt),\n",
      "\u001b[0;31mStdinNotImplementedError\u001b[0m: raw_input was called, but this frontend does not support input requests."
     ],
     "output_type": "error"
    }
   ],
   "source": [
    ""
   ]
  },
  {
   "cell_type": "code",
   "execution_count": null,
   "metadata": {},
   "outputs": [],
   "source": []
  }
 ],
 "metadata": {
  "kernelspec": {
   "display_name": "Python 2",
   "language": "python",
   "name": "python2"
  },
  "language_info": {
   "codemirror_mode": {
    "name": "ipython",
    "version": 2
   },
   "file_extension": ".py",
   "mimetype": "text/x-python",
   "name": "python",
   "nbconvert_exporter": "python",
   "pygments_lexer": "ipython2",
   "version": "2.7.6"
  }
 },
 "nbformat": 4,
 "nbformat_minor": 0
}
